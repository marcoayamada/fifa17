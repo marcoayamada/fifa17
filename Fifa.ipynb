{
 "cells": [
  {
   "cell_type": "markdown",
   "metadata": {},
   "source": [
    "# Prevendo posições do FIFA 17\n",
    "\n",
    "Esse notebook faz parte do desafio da [codenation](https://www.codenation.com.br/journey/data-science/challenge/mlearning-1.html) que tenta prever as posições dos jogadores do FIFA17. O dataset foi baixado de lá através de cadastro.\n",
    "\n",
    "Um dataset parecido pode ser encontrado no [kaggle](https://www.kaggle.com/artimous/complete-fifa-2017-player-dataset-global). \n",
    "\n",
    "Segue descrição do desafio:\n",
    "\n",
    "> *Neste desafio você usará os dados no arquivo train.csv para criar um modelo que será utilizado para inferir a posição de jogo preferida dos jogadores (coluna preferred_pos) no arquivo test.csv. <br><br>Para tal, você deve criar um arquivo answer.csv com colunas ID e preferred_pos, onde os valores da coluna ID são as do arquivo test.csv e as da preferred_pos são a saída do seu modelo.*"
   ]
  },
  {
   "cell_type": "code",
   "execution_count": 1,
   "metadata": {},
   "outputs": [],
   "source": [
    "import pandas as pd\n",
    "import numpy as np\n",
    "import seaborn as sns\n",
    "import collections\n",
    "import warnings\n",
    "from matplotlib import pyplot as plt\n",
    "from math import pi\n",
    "import scikitplot as skplt\n",
    "\n",
    "from sklearn.model_selection import train_test_split\n",
    "from sklearn.metrics import accuracy_score\n",
    "from sklearn.preprocessing import MinMaxScaler\n",
    "from sklearn.preprocessing import StandardScaler\n",
    "from sklearn.svm import SVC\n",
    "from sklearn.ensemble import RandomForestClassifier\n",
    "from sklearn.model_selection import GridSearchCV\n",
    "\n",
    "warnings.filterwarnings('ignore')\n",
    "plt.style.use('seaborn')"
   ]
  },
  {
   "cell_type": "code",
   "execution_count": 2,
   "metadata": {
    "scrolled": true
   },
   "outputs": [
    {
     "name": "stdout",
     "output_type": "stream",
     "text": [
      "<class 'pandas.core.frame.DataFrame'>\n",
      "RangeIndex: 4829 entries, 0 to 4828\n",
      "Data columns (total 55 columns):\n",
      "ID                                    4829 non-null object\n",
      "height_cm                             4829 non-null float64\n",
      "weight_kg                             4829 non-null float64\n",
      "eur_wage                              4829 non-null float64\n",
      "skill_moves                           4829 non-null int64\n",
      "weak_foot                             4829 non-null int64\n",
      "crossing                              4829 non-null int64\n",
      "finishing                             4829 non-null int64\n",
      "heading_accuracy                      4829 non-null int64\n",
      "short_passing                         4829 non-null int64\n",
      "volleys                               4829 non-null int64\n",
      "dribbling                             4829 non-null int64\n",
      "curve                                 4829 non-null int64\n",
      "free_kick_accuracy                    4829 non-null int64\n",
      "long_passing                          4829 non-null int64\n",
      "ball_control                          4829 non-null int64\n",
      "acceleration                          4829 non-null int64\n",
      "sprint_speed                          4829 non-null int64\n",
      "agility                               4829 non-null int64\n",
      "reactions                             4829 non-null int64\n",
      "balance                               4829 non-null int64\n",
      "shot_power                            4829 non-null int64\n",
      "jumping                               4829 non-null int64\n",
      "stamina                               4829 non-null int64\n",
      "strength                              4829 non-null int64\n",
      "long_shots                            4829 non-null int64\n",
      "aggression                            4829 non-null int64\n",
      "interceptions                         4829 non-null int64\n",
      "positioning                           4829 non-null int64\n",
      "vision                                4829 non-null int64\n",
      "penalties                             4829 non-null int64\n",
      "composure                             4829 non-null int64\n",
      "marking                               4829 non-null int64\n",
      "standing_tackle                       4829 non-null int64\n",
      "body_type                             4829 non-null object\n",
      "nationality                           4829 non-null object\n",
      "preferred_foot                        4829 non-null object\n",
      "outside_foot_shot_trait               4829 non-null bool\n",
      "playmaker_trait                       4829 non-null bool\n",
      "power_free_kick_trait                 4829 non-null bool\n",
      "power_header_trait                    4829 non-null bool\n",
      "puncher_trait                         4829 non-null bool\n",
      "rushes_out_of_goal_trait              4829 non-null bool\n",
      "saves_with_feet_trait                 4829 non-null bool\n",
      "selfish_trait                         4829 non-null bool\n",
      "skilled_dribbling_trait               4829 non-null bool\n",
      "takes_finesse_free_kicks_trait        4829 non-null bool\n",
      "target_forward_trait                  4829 non-null bool\n",
      "team_player_trait                     4829 non-null bool\n",
      "technical_dribbler_trait              4829 non-null bool\n",
      "tries_to_beat_defensive_line_trait    4829 non-null bool\n",
      "poacher_speciality                    4829 non-null bool\n",
      "speedster_speciality                  4829 non-null bool\n",
      "aerial_threat_speciality              4829 non-null bool\n",
      "preferred_pos                         4829 non-null object\n",
      "dtypes: bool(17), float64(3), int64(30), object(5)\n",
      "memory usage: 1.5+ MB\n"
     ]
    }
   ],
   "source": [
    "df = pd.read_csv('train.csv')\n",
    "df.info()"
   ]
  },
  {
   "cell_type": "markdown",
   "metadata": {},
   "source": [
    "# 1) Como está a correlação das variáveis numéricas?\n",
    "\n",
    "Muitos atributos! Existem várias correlações entre eles."
   ]
  },
  {
   "cell_type": "code",
   "execution_count": 3,
   "metadata": {
    "scrolled": false
   },
   "outputs": [
    {
     "data": {
      "image/png": "[encoded data removed]",
      "text/plain": [
       "<Figure size 1440x720 with 2 Axes>"
      ]
     },
     "metadata": {},
     "output_type": "display_data"
    }
   ],
   "source": [
    "fig, ax = plt.subplots(figsize=(20,10))\n",
    "ax = sns.heatmap(df.select_dtypes(include=['float64', 'int64']).corr(), ax=ax, cmap ='coolwarm')"
   ]
  },
  {
   "cell_type": "markdown",
   "metadata": {},
   "source": [
    "# 2) Como o FIFA usa as características dos jogadores?\n",
    "\n",
    "O FIFA não usa as caracteristicas de cada jogador diretamente, mas sim uma [média para compor atributos agregados](https://www.futnation.com/2017/3/28/15061828/fifa-fut-17-which-stats-are-best-important-ultimate-team):\n",
    "\n",
    "<img src=\"https://cdn.vox-cdn.com/uploads/chorus_asset/file/8223237/Screen_Shot_2017_03_25_at_19.45.08.png\" alt=\"drawing\" width=\"800px\" align='left'/>\n",
    "<br clear=\"all\" />\n",
    "\n",
    "\n",
    "Aqui existem 28 atributos. Verificando se todos esses atributos estão no dataframe:\n"
   ]
  },
  {
   "cell_type": "markdown",
   "metadata": {},
   "source": [
    "## 2.1) Nem todos atributos estão no csv\n",
    "\n"
   ]
  },
  {
   "cell_type": "code",
   "execution_count": 4,
   "metadata": {},
   "outputs": [],
   "source": [
    "# atributos da imagem\n",
    "att_img = ['acceleration', 'sprint_speed', \n",
    "           'positioning', 'finishing', 'shot_power', 'long_shots', 'volleys', 'penalties', \n",
    "           'vision', 'crossing', 'free_kick_accuracy', 'short_passing', 'long_passing', 'curve',\n",
    "           'agility', 'balance', 'reactions', 'ball_control', 'dribbling',\n",
    "           'interceptions', 'heading_accuracy', 'marking', 'standing_tackle', 'sliding_tackle',\n",
    "           'jumping', 'stamina', 'strength', 'aggression']\n",
    "\n",
    "# atributos do df\n",
    "att_clm = df.select_dtypes(include=['float64', 'int64']).columns\n",
    "\n"
   ]
  },
  {
   "cell_type": "code",
   "execution_count": 5,
   "metadata": {},
   "outputs": [
    {
     "name": "stdout",
     "output_type": "stream",
     "text": [
      "height_cm False\n",
      "weight_kg False\n",
      "eur_wage False\n",
      "skill_moves False\n",
      "weak_foot False\n",
      "composure False\n",
      "\n",
      "------------\n",
      "\n",
      "sliding_tackle False\n"
     ]
    }
   ],
   "source": [
    "for item in att_clm:\n",
    "    if not item in att_img:\n",
    "        print(item, item in att_img)\n",
    "        \n",
    "print('\\n------------\\n')\n",
    "\n",
    "for item in att_img:\n",
    "    if not item in att_clm:\n",
    "        print(item, item in att_clm)"
   ]
  },
  {
   "cell_type": "markdown",
   "metadata": {},
   "source": [
    "___\n",
    "Esses atributos do csv não compõe os atributos agregados:\n",
    "\n",
    "- height_cm  \n",
    "- weight_kg  \n",
    "- eur_wage   \n",
    "- skill_moves\n",
    "- weak_foot  \n",
    "- composure  \n",
    "\n",
    "Esse atributo não está no csv, então, a média terá que ser feita por 4 em Defending\n",
    "\n",
    "- sliding_tackle"
   ]
  },
  {
   "cell_type": "code",
   "execution_count": 6,
   "metadata": {
    "scrolled": true
   },
   "outputs": [],
   "source": [
    "df['pace'] = df[['acceleration', 'sprint_speed']].mean(axis=1)\n",
    "df['shooting'] = df[['positioning', 'finishing', 'shot_power', 'long_shots', 'volleys', 'penalties', ]].mean(axis=1)\n",
    "df['passing'] = df[['vision', 'crossing', 'free_kick_accuracy', 'short_passing', 'long_passing', 'curve']].mean(axis=1)\n",
    "df['dribling'] = df[['agility', 'balance', 'reactions', 'ball_control', 'dribbling']].mean(axis=1)\n",
    "df['defending'] = df[['interceptions', 'heading_accuracy', 'marking', 'standing_tackle']].mean(axis=1)\n",
    "df['physical'] = df[['jumping', 'stamina', 'strength', 'aggression']].mean(axis=1)"
   ]
  },
  {
   "cell_type": "code",
   "execution_count": 7,
   "metadata": {},
   "outputs": [
    {
     "data": {
      "text/html": [
       "<div>\n",
       "<style scoped>\n",
       "    .dataframe tbody tr th:only-of-type {\n",
       "        vertical-align: middle;\n",
       "    }\n",
       "\n",
       "    .dataframe tbody tr th {\n",
       "        vertical-align: top;\n",
       "    }\n",
       "\n",
       "    .dataframe thead th {\n",
       "        text-align: right;\n",
       "    }\n",
       "</style>\n",
       "<table border=\"1\" class=\"dataframe\">\n",
       "  <thead>\n",
       "    <tr style=\"text-align: right;\">\n",
       "      <th></th>\n",
       "      <th>pace</th>\n",
       "      <th>shooting</th>\n",
       "      <th>passing</th>\n",
       "      <th>dribling</th>\n",
       "      <th>defending</th>\n",
       "      <th>physical</th>\n",
       "      <th>preferred_pos</th>\n",
       "    </tr>\n",
       "  </thead>\n",
       "  <tbody>\n",
       "    <tr>\n",
       "      <th>0</th>\n",
       "      <td>34.5</td>\n",
       "      <td>11.000000</td>\n",
       "      <td>14.500000</td>\n",
       "      <td>31.6</td>\n",
       "      <td>10.75</td>\n",
       "      <td>43.00</td>\n",
       "      <td>prefers_gk</td>\n",
       "    </tr>\n",
       "    <tr>\n",
       "      <th>1</th>\n",
       "      <td>67.0</td>\n",
       "      <td>48.500000</td>\n",
       "      <td>57.833333</td>\n",
       "      <td>69.6</td>\n",
       "      <td>53.25</td>\n",
       "      <td>63.50</td>\n",
       "      <td>prefers_cm</td>\n",
       "    </tr>\n",
       "    <tr>\n",
       "      <th>2</th>\n",
       "      <td>47.5</td>\n",
       "      <td>21.166667</td>\n",
       "      <td>27.500000</td>\n",
       "      <td>43.0</td>\n",
       "      <td>25.00</td>\n",
       "      <td>49.75</td>\n",
       "      <td>prefers_gk</td>\n",
       "    </tr>\n",
       "    <tr>\n",
       "      <th>3</th>\n",
       "      <td>69.5</td>\n",
       "      <td>69.000000</td>\n",
       "      <td>46.500000</td>\n",
       "      <td>57.6</td>\n",
       "      <td>35.75</td>\n",
       "      <td>63.50</td>\n",
       "      <td>prefers_st</td>\n",
       "    </tr>\n",
       "    <tr>\n",
       "      <th>4</th>\n",
       "      <td>33.0</td>\n",
       "      <td>32.166667</td>\n",
       "      <td>45.000000</td>\n",
       "      <td>36.6</td>\n",
       "      <td>71.00</td>\n",
       "      <td>68.50</td>\n",
       "      <td>prefers_cb</td>\n",
       "    </tr>\n",
       "  </tbody>\n",
       "</table>\n",
       "</div>"
      ],
      "text/plain": [
       "   pace   shooting    passing  dribling  defending  physical preferred_pos\n",
       "0  34.5  11.000000  14.500000      31.6      10.75     43.00    prefers_gk\n",
       "1  67.0  48.500000  57.833333      69.6      53.25     63.50    prefers_cm\n",
       "2  47.5  21.166667  27.500000      43.0      25.00     49.75    prefers_gk\n",
       "3  69.5  69.000000  46.500000      57.6      35.75     63.50    prefers_st\n",
       "4  33.0  32.166667  45.000000      36.6      71.00     68.50    prefers_cb"
      ]
     },
     "execution_count": 7,
     "metadata": {},
     "output_type": "execute_result"
    }
   ],
   "source": [
    "df[['pace','shooting','passing','dribling','defending','physical', 'preferred_pos']].head()"
   ]
  },
  {
   "cell_type": "markdown",
   "metadata": {},
   "source": [
    "## 2.2) Média dos novos atributos para cada posição:"
   ]
  },
  {
   "cell_type": "code",
   "execution_count": 8,
   "metadata": {
    "scrolled": false
   },
   "outputs": [
    {
     "data": {
      "text/html": [
       "<div>\n",
       "<style scoped>\n",
       "    .dataframe tbody tr th:only-of-type {\n",
       "        vertical-align: middle;\n",
       "    }\n",
       "\n",
       "    .dataframe tbody tr th {\n",
       "        vertical-align: top;\n",
       "    }\n",
       "\n",
       "    .dataframe thead th {\n",
       "        text-align: right;\n",
       "    }\n",
       "</style>\n",
       "<table border=\"1\" class=\"dataframe\">\n",
       "  <thead>\n",
       "    <tr style=\"text-align: right;\">\n",
       "      <th></th>\n",
       "      <th>pace</th>\n",
       "      <th>shooting</th>\n",
       "      <th>passing</th>\n",
       "      <th>dribling</th>\n",
       "      <th>defending</th>\n",
       "      <th>physical</th>\n",
       "    </tr>\n",
       "    <tr>\n",
       "      <th>preferred_pos</th>\n",
       "      <th></th>\n",
       "      <th></th>\n",
       "      <th></th>\n",
       "      <th></th>\n",
       "      <th></th>\n",
       "      <th></th>\n",
       "    </tr>\n",
       "  </thead>\n",
       "  <tbody>\n",
       "    <tr>\n",
       "      <th>prefers_cam</th>\n",
       "      <td>67.652866</td>\n",
       "      <td>55.367304</td>\n",
       "      <td>59.674098</td>\n",
       "      <td>66.467516</td>\n",
       "      <td>39.503185</td>\n",
       "      <td>54.363057</td>\n",
       "    </tr>\n",
       "    <tr>\n",
       "      <th>prefers_cb</th>\n",
       "      <td>56.876902</td>\n",
       "      <td>36.454640</td>\n",
       "      <td>42.056998</td>\n",
       "      <td>51.880931</td>\n",
       "      <td>66.697404</td>\n",
       "      <td>69.463966</td>\n",
       "    </tr>\n",
       "    <tr>\n",
       "      <th>prefers_cdm</th>\n",
       "      <td>61.795775</td>\n",
       "      <td>48.928795</td>\n",
       "      <td>54.958529</td>\n",
       "      <td>62.370892</td>\n",
       "      <td>61.545775</td>\n",
       "      <td>67.941315</td>\n",
       "    </tr>\n",
       "    <tr>\n",
       "      <th>prefers_cf</th>\n",
       "      <td>69.916667</td>\n",
       "      <td>56.333333</td>\n",
       "      <td>47.263889</td>\n",
       "      <td>64.116667</td>\n",
       "      <td>25.875000</td>\n",
       "      <td>51.166667</td>\n",
       "    </tr>\n",
       "    <tr>\n",
       "      <th>prefers_cm</th>\n",
       "      <td>64.775126</td>\n",
       "      <td>51.399079</td>\n",
       "      <td>56.922111</td>\n",
       "      <td>63.514070</td>\n",
       "      <td>51.138819</td>\n",
       "      <td>61.404523</td>\n",
       "    </tr>\n",
       "    <tr>\n",
       "      <th>prefers_gk</th>\n",
       "      <td>39.048187</td>\n",
       "      <td>15.483938</td>\n",
       "      <td>22.032988</td>\n",
       "      <td>35.301140</td>\n",
       "      <td>14.751295</td>\n",
       "      <td>44.067876</td>\n",
       "    </tr>\n",
       "    <tr>\n",
       "      <th>prefers_lb</th>\n",
       "      <td>71.881579</td>\n",
       "      <td>45.725146</td>\n",
       "      <td>54.921053</td>\n",
       "      <td>64.621053</td>\n",
       "      <td>61.519737</td>\n",
       "      <td>67.496345</td>\n",
       "    </tr>\n",
       "    <tr>\n",
       "      <th>prefers_lm</th>\n",
       "      <td>75.838710</td>\n",
       "      <td>55.606183</td>\n",
       "      <td>56.594086</td>\n",
       "      <td>67.070968</td>\n",
       "      <td>36.243952</td>\n",
       "      <td>55.939516</td>\n",
       "    </tr>\n",
       "    <tr>\n",
       "      <th>prefers_lw</th>\n",
       "      <td>76.243243</td>\n",
       "      <td>58.427928</td>\n",
       "      <td>55.337838</td>\n",
       "      <td>68.027027</td>\n",
       "      <td>31.560811</td>\n",
       "      <td>52.398649</td>\n",
       "    </tr>\n",
       "    <tr>\n",
       "      <th>prefers_lwb</th>\n",
       "      <td>71.875000</td>\n",
       "      <td>43.375000</td>\n",
       "      <td>48.875000</td>\n",
       "      <td>62.800000</td>\n",
       "      <td>54.812500</td>\n",
       "      <td>61.312500</td>\n",
       "    </tr>\n",
       "    <tr>\n",
       "      <th>prefers_rb</th>\n",
       "      <td>73.429245</td>\n",
       "      <td>44.473270</td>\n",
       "      <td>52.301363</td>\n",
       "      <td>64.185535</td>\n",
       "      <td>61.482704</td>\n",
       "      <td>67.252358</td>\n",
       "    </tr>\n",
       "    <tr>\n",
       "      <th>prefers_rm</th>\n",
       "      <td>75.186709</td>\n",
       "      <td>55.610759</td>\n",
       "      <td>56.446203</td>\n",
       "      <td>66.650633</td>\n",
       "      <td>37.420886</td>\n",
       "      <td>56.767405</td>\n",
       "    </tr>\n",
       "    <tr>\n",
       "      <th>prefers_rw</th>\n",
       "      <td>73.575472</td>\n",
       "      <td>59.537736</td>\n",
       "      <td>55.150943</td>\n",
       "      <td>66.056604</td>\n",
       "      <td>32.367925</td>\n",
       "      <td>52.646226</td>\n",
       "    </tr>\n",
       "    <tr>\n",
       "      <th>prefers_rwb</th>\n",
       "      <td>75.500000</td>\n",
       "      <td>51.000000</td>\n",
       "      <td>51.666667</td>\n",
       "      <td>65.000000</td>\n",
       "      <td>51.000000</td>\n",
       "      <td>64.250000</td>\n",
       "    </tr>\n",
       "    <tr>\n",
       "      <th>prefers_st</th>\n",
       "      <td>67.676534</td>\n",
       "      <td>62.978830</td>\n",
       "      <td>48.136168</td>\n",
       "      <td>62.537137</td>\n",
       "      <td>34.129440</td>\n",
       "      <td>63.923843</td>\n",
       "    </tr>\n",
       "  </tbody>\n",
       "</table>\n",
       "</div>"
      ],
      "text/plain": [
       "                    pace   shooting    passing   dribling  defending  \\\n",
       "preferred_pos                                                          \n",
       "prefers_cam    67.652866  55.367304  59.674098  66.467516  39.503185   \n",
       "prefers_cb     56.876902  36.454640  42.056998  51.880931  66.697404   \n",
       "prefers_cdm    61.795775  48.928795  54.958529  62.370892  61.545775   \n",
       "prefers_cf     69.916667  56.333333  47.263889  64.116667  25.875000   \n",
       "prefers_cm     64.775126  51.399079  56.922111  63.514070  51.138819   \n",
       "prefers_gk     39.048187  15.483938  22.032988  35.301140  14.751295   \n",
       "prefers_lb     71.881579  45.725146  54.921053  64.621053  61.519737   \n",
       "prefers_lm     75.838710  55.606183  56.594086  67.070968  36.243952   \n",
       "prefers_lw     76.243243  58.427928  55.337838  68.027027  31.560811   \n",
       "prefers_lwb    71.875000  43.375000  48.875000  62.800000  54.812500   \n",
       "prefers_rb     73.429245  44.473270  52.301363  64.185535  61.482704   \n",
       "prefers_rm     75.186709  55.610759  56.446203  66.650633  37.420886   \n",
       "prefers_rw     73.575472  59.537736  55.150943  66.056604  32.367925   \n",
       "prefers_rwb    75.500000  51.000000  51.666667  65.000000  51.000000   \n",
       "prefers_st     67.676534  62.978830  48.136168  62.537137  34.129440   \n",
       "\n",
       "                physical  \n",
       "preferred_pos             \n",
       "prefers_cam    54.363057  \n",
       "prefers_cb     69.463966  \n",
       "prefers_cdm    67.941315  \n",
       "prefers_cf     51.166667  \n",
       "prefers_cm     61.404523  \n",
       "prefers_gk     44.067876  \n",
       "prefers_lb     67.496345  \n",
       "prefers_lm     55.939516  \n",
       "prefers_lw     52.398649  \n",
       "prefers_lwb    61.312500  \n",
       "prefers_rb     67.252358  \n",
       "prefers_rm     56.767405  \n",
       "prefers_rw     52.646226  \n",
       "prefers_rwb    64.250000  \n",
       "prefers_st     63.923843  "
      ]
     },
     "execution_count": 8,
     "metadata": {},
     "output_type": "execute_result"
    }
   ],
   "source": [
    "df[['pace','shooting','passing','dribling','defending','physical', 'preferred_foot','preferred_pos']].groupby('preferred_pos').mean()"
   ]
  },
  {
   "cell_type": "markdown",
   "metadata": {},
   "source": [
    "## 2.3) Muitas posições! Reduzindo para 4 posições apenas:\n",
    "\n",
    "Nas jogos mais antigos não existiam tantas posições. O [International Superstar Soccer Pro 98](https://www.youtube.com/watch?v=K7So22X1oTw) tinha apenas 4: **gk, df, mf e fw**.\n"
   ]
  },
  {
   "cell_type": "code",
   "execution_count": 9,
   "metadata": {},
   "outputs": [],
   "source": [
    "# abstraindo a posicao preferida para gk, back, mid e forw. \n",
    "\n",
    "def absPosition(position):\n",
    "    if position == 'prefers_gk':\n",
    "        return 'gk'\n",
    "    elif position == 'prefers_cb' or position == 'prefers_lb' or position == 'prefers_rb' or position == 'prefers_rwb' or position == 'prefers_lwb':\n",
    "        return 'df'\n",
    "    elif position == 'prefers_cam' or position == 'prefers_cdm' or position == 'prefers_rm' or position == 'prefers_cm' or position == 'prefers_lm':\n",
    "        return 'mf'\n",
    "    elif position == 'prefers_st' or position == 'prefers_cf' or position == 'prefers_lw' or position == 'prefers_rw':\n",
    "        return 'fw'\n",
    "\n",
    "df['pst'] = df['preferred_pos'].map(absPosition)"
   ]
  },
  {
   "cell_type": "code",
   "execution_count": 10,
   "metadata": {
    "scrolled": true
   },
   "outputs": [
    {
     "data": {
      "text/html": [
       "<div>\n",
       "<style scoped>\n",
       "    .dataframe tbody tr th:only-of-type {\n",
       "        vertical-align: middle;\n",
       "    }\n",
       "\n",
       "    .dataframe tbody tr th {\n",
       "        vertical-align: top;\n",
       "    }\n",
       "\n",
       "    .dataframe thead th {\n",
       "        text-align: right;\n",
       "    }\n",
       "</style>\n",
       "<table border=\"1\" class=\"dataframe\">\n",
       "  <thead>\n",
       "    <tr style=\"text-align: right;\">\n",
       "      <th></th>\n",
       "      <th>pst</th>\n",
       "      <th>pace</th>\n",
       "      <th>shooting</th>\n",
       "      <th>passing</th>\n",
       "      <th>dribling</th>\n",
       "      <th>defending</th>\n",
       "      <th>physical</th>\n",
       "    </tr>\n",
       "  </thead>\n",
       "  <tbody>\n",
       "    <tr>\n",
       "      <th>0</th>\n",
       "      <td>df</td>\n",
       "      <td>62.761638</td>\n",
       "      <td>39.694803</td>\n",
       "      <td>46.377641</td>\n",
       "      <td>56.558385</td>\n",
       "      <td>64.729950</td>\n",
       "      <td>68.667975</td>\n",
       "    </tr>\n",
       "    <tr>\n",
       "      <th>1</th>\n",
       "      <td>fw</td>\n",
       "      <td>68.313288</td>\n",
       "      <td>62.561267</td>\n",
       "      <td>48.745070</td>\n",
       "      <td>62.933463</td>\n",
       "      <td>33.850630</td>\n",
       "      <td>62.782008</td>\n",
       "    </tr>\n",
       "    <tr>\n",
       "      <th>2</th>\n",
       "      <td>gk</td>\n",
       "      <td>39.048187</td>\n",
       "      <td>15.483938</td>\n",
       "      <td>22.032988</td>\n",
       "      <td>35.301140</td>\n",
       "      <td>14.751295</td>\n",
       "      <td>44.067876</td>\n",
       "    </tr>\n",
       "    <tr>\n",
       "      <th>3</th>\n",
       "      <td>mf</td>\n",
       "      <td>67.474286</td>\n",
       "      <td>52.621905</td>\n",
       "      <td>56.824921</td>\n",
       "      <td>64.615810</td>\n",
       "      <td>47.686905</td>\n",
       "      <td>60.334524</td>\n",
       "    </tr>\n",
       "  </tbody>\n",
       "</table>\n",
       "</div>"
      ],
      "text/plain": [
       "  pst       pace   shooting    passing   dribling  defending   physical\n",
       "0  df  62.761638  39.694803  46.377641  56.558385  64.729950  68.667975\n",
       "1  fw  68.313288  62.561267  48.745070  62.933463  33.850630  62.782008\n",
       "2  gk  39.048187  15.483938  22.032988  35.301140  14.751295  44.067876\n",
       "3  mf  67.474286  52.621905  56.824921  64.615810  47.686905  60.334524"
      ]
     },
     "execution_count": 10,
     "metadata": {},
     "output_type": "execute_result"
    }
   ],
   "source": [
    "df_res = df[['pace','shooting','passing','dribling','defending','physical', 'pst']].groupby('pst').mean().reset_index()\n",
    "df_res"
   ]
  },
  {
   "cell_type": "markdown",
   "metadata": {},
   "source": [
    "Por aqui já dá pra notar alguns padrões:\n",
    "\n",
    "- Zagueiros tem um shooting PÉSSIMO, mas defendem bem e são fortes.\n",
    "- Atacantes são HORRÍVEIS na marcação, mas driblam e chutam melhor que as outras posições\n",
    "- Goleiros não fazem muitas coisas bem feitas haha. A média dos seus atributos talvez seja a mais baixa entre as posições\n",
    "- Meia é a posição mais regular. Fazem bem as funções da outras posições\n",
    "\n"
   ]
  },
  {
   "cell_type": "markdown",
   "metadata": {},
   "source": [
    "### 2.3.1) E como ficaria essa tabela com a visualização de um spider chart?\n",
    "\n",
    "Lembro desse tipo de gráfico nas versões [mais antigas do PES](https://encrypted-tbn0.gstatic.com/images?q=tbn:ANd9GcSr136rnVQXuaqzWP_f0c6_HPsjGFpeyhaFa7Tjxt0EmB7L1AnshA).\n"
   ]
  },
  {
   "cell_type": "code",
   "execution_count": 11,
   "metadata": {},
   "outputs": [],
   "source": [
    "# Retirado e adaptado de: https://python-graph-gallery.com/radar-chart/\n",
    "\n",
    "def make_spider( row, title, color):\n",
    "\n",
    "    # number of variable\n",
    "    categories=[item.capitalize() for item in list(df_res)[1:]] # deixando a primeira letra maiúscula\n",
    "    N = len(categories)\n",
    "\n",
    "    # What will be the angle of each axis in the plot? (we divide the plot / number of variable)\n",
    "    angles = [n / float(N) * 2 * pi for n in range(N)]\n",
    "    angles += angles[:1]\n",
    "\n",
    "    # Initialise the spider plot\n",
    "    # Ajustando o grid para 4 plot em uma linha\n",
    "    ax = plt.subplot(1,4,row+1, polar=True)\n",
    "    \n",
    "    # https://stackoverflow.com/questions/6541123/improve-subplot-size-spacing-with-many-subplots-in-matplotlib\n",
    "    plt.subplots_adjust(left  = 0.125,  # the left side of the subplots of the figure\n",
    "                        right = 1.5,    # the right side of the subplots of the figure\n",
    "                        bottom = 0.1,   # the bottom of the subplots of the figure\n",
    "                        top = 0.9,      # the top of the subplots of the figure\n",
    "                        wspace = 0.2,   # the amount of width reserved for blank space between subplots\n",
    "                        hspace = 0.2    # the amount of height reserved for white space between subplots\n",
    "                       )\n",
    "    \n",
    "\n",
    "    # If you want the first axis to be on top:\n",
    "    ax.set_theta_offset(pi / 2)\n",
    "    ax.set_theta_direction(-1)\n",
    "\n",
    "    # Draw one axe per variable + add labels labels yet\n",
    "    plt.xticks(angles[:-1], categories, color='grey', size=9)\n",
    "\n",
    "    # Draw ylabels\n",
    "    ax.set_rlabel_position(0)\n",
    "    plt.yticks(color=\"grey\", size=9)\n",
    "    plt.ylim(0,100)\n",
    "\n",
    "    # Ind1\n",
    "    values=df_res.loc[row].drop('pst').values.flatten().tolist()\n",
    "    values += values[:1]\n",
    "    ax.plot(angles, values, color=color, linewidth=2, linestyle='solid')\n",
    "    ax.fill(angles, values, color=color, alpha=0.4)\n",
    "\n",
    "    # Add a title\n",
    "    plt.title(title, size=11, color=color, y=1.1)"
   ]
  },
  {
   "cell_type": "code",
   "execution_count": 12,
   "metadata": {},
   "outputs": [
    {
     "data": {
      "image/png": "[encoded data removed]",
      "text/plain": [
       "<Figure size 1000x1000 with 4 Axes>"
      ]
     },
     "metadata": {},
     "output_type": "display_data"
    }
   ],
   "source": [
    "# ------- PART 2: Apply to all individuals\n",
    "# initialize the figure\n",
    "my_dpi=105\n",
    "fig = plt.figure(figsize=(1000/my_dpi, 1000/my_dpi), dpi=my_dpi)\n",
    "\n",
    "# Create a color palette:\n",
    "my_palette = plt.cm.get_cmap(\"Paired\", len(df_res.index))\n",
    "\n",
    "# Loop to plot\n",
    "\n",
    "for row in range(0, len(df_res.index)):\n",
    "    make_spider(row=row, title=df_res.iloc[row,:1][0].upper(), color=my_palette(row))"
   ]
  },
  {
   "cell_type": "markdown",
   "metadata": {},
   "source": [
    "# 3) Prevendo as posições do ISSP 98\n",
    "\n",
    "Vamos tentar prever as 4 posições do Soccer Pro 98 **(gk, df, mf, fw)**. Bons padrões puderam ser observados antes.\n",
    "\n",
    "O algoritmo utilizado será o **SVC (SVM Classificator)**. Esse algoritmo necessita de normalização dos dados antes que ele seja aplicado (https://neerajkumar.org/writings/svm/):\n",
    "\n",
    "Mas qual normalização devo usar?\n",
    "\n",
    "Existem 2 referências básicas de normalização de dados: 'Standardization' ou normalization(min max). Esse artigo http://sebastianraschka.com/Articles/2014_about_feature_scaling.html diz que *por via das dúvidas, usar Standardization.*\n",
    "\n",
    "Aqui também tem um comentário útil: https://stackoverflow.com/questions/29819428/normalization-or-standardization-data-input-for-svm-scikitlearn\n",
    "\n",
    "\n",
    "Para não ficar no 'e se', vamos fazer um modelo que use as 2 normalizações e ver o resultado:"
   ]
  },
  {
   "cell_type": "code",
   "execution_count": 13,
   "metadata": {
    "scrolled": true
   },
   "outputs": [],
   "source": [
    "X = df[['pace','shooting','passing','dribling','defending','physical']]\n",
    "y = df['pst']"
   ]
  },
  {
   "cell_type": "code",
   "execution_count": 14,
   "metadata": {},
   "outputs": [],
   "source": [
    "# Essa função também será usada no item 5 desse notebook.\n",
    "\n",
    "def svc_model(X, y, split=0.25, mostraTodasPred=False, default_kernel='rbf', default_C=1):\n",
    "    \n",
    "    if 'preferred_foot' in X.columns: # convertendo em numero\n",
    "        X.preferred_foot = X.preferred_foot.str.replace('Right', '0').replace('Left', '1').astype('int64')\n",
    "    \n",
    "    if 'pst' in X.columns: # convertendo em numero\n",
    "        X.pst = X.pst.str.replace('gk', '0').replace('df', '1').replace('mf', '2').replace('fw', '3').astype('int64')\n",
    "    \n",
    "    # splitting train test\n",
    "    X_train, X_test, y_train, y_test = train_test_split(X, y, test_size=split, random_state=0)\n",
    "    \n",
    "    # Dados stadardizados\n",
    "    ss_std = StandardScaler()\n",
    "    X_train_std = ss_std.fit_transform(X_train)\n",
    "    X_test_std = ss_std.transform(X_test)\n",
    "    clf_std = SVC(random_state=0, kernel=default_kernel, C=default_C)\n",
    "    clf_std.fit(X_train_std, y_train)\n",
    "    pred_std = clf_std.predict(X_test_std)\n",
    "    count_std  = collections.Counter(pred_std)\n",
    "    \n",
    "    # y_test\n",
    "    count_test = collections.Counter(y_test)\n",
    "    \n",
    "    # Mostrando o resultado final\n",
    "    df_result = pd.DataFrame([dict(count_test), dict(count_std)]).T\n",
    "    df_result.columns = ['y test','Pred. Orig.']\n",
    "    \n",
    "    if mostraTodasPred: # se quiser mostrar as predições com dados originais e mimax\n",
    "        # predição com dados originais\n",
    "        clf_orig = SVC(random_state=0, kernel=default_kernel, C=default_C)\n",
    "        clf_orig.fit(X_train, y_train)\n",
    "        count_orig = collections.Counter(clf_orig.predict(X_test))\n",
    "        \n",
    "        #Dados min max\n",
    "        mimax = MinMaxScaler()\n",
    "        X_train_mimax = mimax.fit_transform(X_train)\n",
    "        X_test_mimax = mimax.transform(X_test)\n",
    "        clf_mimax = SVC(random_state=0, kernel=default_kernel, C=default_C)\n",
    "        clf_mimax.fit(X_train_mimax, y_train)\n",
    "        count_mimax= collections.Counter(clf_mimax.predict(X_test_mimax))\n",
    "\n",
    "        # Mostrando o resultado final\n",
    "        df_result = pd.DataFrame([dict(count_test), dict(count_orig),dict(count_mimax), dict(count_std)]).T\n",
    "        df_result.columns = ['y test', 'Pred. Orig.', 'Pred. MinMax', 'Pred. Std']\n",
    "        \n",
    "        print('Accuracy original: {0}'.format(clf_orig.score(X_test, y_test)))\n",
    "        print('Accuracy min max : {0}'.format(clf_mimax.score(X_test_mimax, y_test)))\n",
    "        \n",
    "    print('Accuracy standard: {0}'.format(clf_std.score(X_test_std, y_test)))\n",
    "    print('')\n",
    "    print(df_result)\n",
    "\n",
    "    if mostraTodasPred:\n",
    "        return [X_train, X_train_std, X_train_mimax, y_train, y_test, pred_std]\n",
    "    else:\n",
    "        return [X_train, X_train_std, y_train, y_test, pred_std]"
   ]
  },
  {
   "cell_type": "code",
   "execution_count": 15,
   "metadata": {
    "scrolled": false
   },
   "outputs": [
    {
     "name": "stdout",
     "output_type": "stream",
     "text": [
      "Accuracy original: 0.4379139072847682\n",
      "Accuracy min max : 0.9089403973509934\n",
      "Accuracy standard: 0.9279801324503312\n",
      "\n",
      "    y test  Pred. Orig.  Pred. MinMax  Pred. Std\n",
      "df     418         1095           471        451\n",
      "fw     251            8           250        250\n",
      "gk     254           96           254        254\n",
      "mf     285            9           233        253\n"
     ]
    }
   ],
   "source": [
    "result = svc_model(X,y, mostraTodasPred=True)"
   ]
  },
  {
   "cell_type": "markdown",
   "metadata": {},
   "source": [
    "Colocar os dados em uma escala melhorou o resultado da previsão! Dependendo da aleatoriedade da amostra o min max ou o standard podem ficar um pouco melhor ou um pouco pior que o outro, então praticamente não possuem diferença para esse modelo.\n"
   ]
  },
  {
   "cell_type": "markdown",
   "metadata": {},
   "source": [
    "## 3.1) Plotando dados originais e tranformações\n",
    "\n",
    "Como ficam os dados distribuídos em um gráfico com todas essas tranformações?\n",
    "\n",
    "> **Standard scaler**: distribution is now centred around 0, with a standard deviation of 1\n",
    "\n",
    "> **Min max scaler**: the range is now between 0 and 1 (or -1 to 1 if there are negative values)\n"
   ]
  },
  {
   "cell_type": "code",
   "execution_count": 16,
   "metadata": {
    "scrolled": false
   },
   "outputs": [
    {
     "data": {
      "image/png": "[encoded data removed]",
      "text/plain": [
       "<Figure size 1080x432 with 3 Axes>"
      ]
     },
     "metadata": {},
     "output_type": "display_data"
    }
   ],
   "source": [
    "# Função usada para criar os gráficos após a transformação dos dados\n",
    "\n",
    "def distTypeCharts(X_train, X_train_stand, X_train_mimax): #(DataFrame, Serie, Serie)\n",
    "\n",
    "    fig, (ax1, ax2, ax3) = plt.subplots(ncols=3, figsize=(15, 6))\n",
    "\n",
    "    for col in X_train.columns:\n",
    "        sns.kdeplot(X_train[col], ax=ax1)\n",
    "\n",
    "    # df apenas para montar o gráfico\n",
    "    X_train_stand_df = pd.DataFrame(X_train_stand, columns=['pace','shooting','passing','dribling','defending','physical'])\n",
    "    for col in X_train_stand_df.columns:\n",
    "        sns.kdeplot(X_train_stand_df[col], ax=ax2)\n",
    "\n",
    "    # df apenas para montar o gráfico\n",
    "    X_train_mimax_df = pd.DataFrame(X_train_mimax, columns=['pace','shooting','passing','dribling','defending','physical'])\n",
    "    for col in X_train_mimax_df.columns:\n",
    "        sns.kdeplot(X_train_mimax_df[col], ax=ax3)\n",
    "\n",
    "    # melhorando a aparencia    \n",
    "    ax1.set_title('Dados originais')\n",
    "    ax2.set_title('Standardization')\n",
    "    ax3.set_title('Min Max')\n",
    "\n",
    "    ax2.legend_.remove()\n",
    "    ax3.legend_.remove()\n",
    "    \n",
    "# função de previsão retorna tupla de 4 posições. A utlima posição é apenas para\n",
    "# criar esses graficos.\n",
    "distTypeCharts(result[0], result[1], result[2])"
   ]
  },
  {
   "cell_type": "markdown",
   "metadata": {},
   "source": [
    "## 3.2) Conclusão\n",
    "\n",
    "Caso quiséssemos as posições para o ISSP 98, teríamos um modelo com uma accuracy muito boa. Entretanto, precisamos especificar um pouco mais nosso modelo. \n",
    "\n",
    "Para cada posição existem as subposições que diferem quanto à perna predominante e se o jogador tem caracteristicas predominantes de atacante ou zagueiro. Vamos tentar descobrir alguns padrões:"
   ]
  },
  {
   "cell_type": "markdown",
   "metadata": {},
   "source": [
    "# 4) Explorando subposições\n"
   ]
  },
  {
   "cell_type": "markdown",
   "metadata": {},
   "source": [
    "## 4.1) Investigando os zagueiros\n",
    "\n",
    "Os backs dividem-se em 5 posições específicas:\n",
    "\n",
    "- prefers_lwb\n",
    "- prefers_lb\n",
    "- prefers_cb\n",
    "- prefers_rb\n",
    "- prefers_rwb\n",
    "\n",
    "\n",
    "Além de usar nossas varáveis do ISSP98 e as posições, temos que observar que existem os lados que os jogadores gostam de jogar. Chuto, quase afirmando, que isso tem a ver com o pé predominante. Vamos aos padrões:"
   ]
  },
  {
   "cell_type": "code",
   "execution_count": 17,
   "metadata": {
    "scrolled": true
   },
   "outputs": [
    {
     "data": {
      "text/html": [
       "<div>\n",
       "<style scoped>\n",
       "    .dataframe tbody tr th:only-of-type {\n",
       "        vertical-align: middle;\n",
       "    }\n",
       "\n",
       "    .dataframe tbody tr th {\n",
       "        vertical-align: top;\n",
       "    }\n",
       "\n",
       "    .dataframe thead th {\n",
       "        text-align: right;\n",
       "    }\n",
       "</style>\n",
       "<table border=\"1\" class=\"dataframe\">\n",
       "  <thead>\n",
       "    <tr style=\"text-align: right;\">\n",
       "      <th></th>\n",
       "      <th>pace</th>\n",
       "      <th>shooting</th>\n",
       "      <th>passing</th>\n",
       "      <th>dribling</th>\n",
       "      <th>defending</th>\n",
       "      <th>physical</th>\n",
       "      <th>preferred_foot</th>\n",
       "      <th>preferred_pos</th>\n",
       "    </tr>\n",
       "  </thead>\n",
       "  <tbody>\n",
       "    <tr>\n",
       "      <th>4</th>\n",
       "      <td>33.0</td>\n",
       "      <td>32.166667</td>\n",
       "      <td>45.000000</td>\n",
       "      <td>36.6</td>\n",
       "      <td>71.0</td>\n",
       "      <td>68.50</td>\n",
       "      <td>Right</td>\n",
       "      <td>prefers_cb</td>\n",
       "    </tr>\n",
       "    <tr>\n",
       "      <th>7</th>\n",
       "      <td>77.0</td>\n",
       "      <td>30.666667</td>\n",
       "      <td>39.666667</td>\n",
       "      <td>54.2</td>\n",
       "      <td>50.0</td>\n",
       "      <td>57.75</td>\n",
       "      <td>Right</td>\n",
       "      <td>prefers_rb</td>\n",
       "    </tr>\n",
       "  </tbody>\n",
       "</table>\n",
       "</div>"
      ],
      "text/plain": [
       "   pace   shooting    passing  dribling  defending  physical preferred_foot  \\\n",
       "4  33.0  32.166667  45.000000      36.6       71.0     68.50          Right   \n",
       "7  77.0  30.666667  39.666667      54.2       50.0     57.75          Right   \n",
       "\n",
       "  preferred_pos  \n",
       "4    prefers_cb  \n",
       "7    prefers_rb  "
      ]
     },
     "execution_count": 17,
     "metadata": {},
     "output_type": "execute_result"
    }
   ],
   "source": [
    "df_z = df[df.pst == 'df'][['pace','shooting','passing','dribling','defending','physical', 'preferred_foot','preferred_pos']]\n",
    "df_z.head(2)"
   ]
  },
  {
   "cell_type": "code",
   "execution_count": 18,
   "metadata": {},
   "outputs": [
    {
     "data": {
      "text/html": [
       "<div>\n",
       "<style scoped>\n",
       "    .dataframe tbody tr th:only-of-type {\n",
       "        vertical-align: middle;\n",
       "    }\n",
       "\n",
       "    .dataframe tbody tr th {\n",
       "        vertical-align: top;\n",
       "    }\n",
       "\n",
       "    .dataframe thead th {\n",
       "        text-align: right;\n",
       "    }\n",
       "</style>\n",
       "<table border=\"1\" class=\"dataframe\">\n",
       "  <thead>\n",
       "    <tr style=\"text-align: right;\">\n",
       "      <th></th>\n",
       "      <th>pace</th>\n",
       "      <th>shooting</th>\n",
       "      <th>passing</th>\n",
       "      <th>dribling</th>\n",
       "      <th>defending</th>\n",
       "      <th>physical</th>\n",
       "    </tr>\n",
       "    <tr>\n",
       "      <th>preferred_pos</th>\n",
       "      <th></th>\n",
       "      <th></th>\n",
       "      <th></th>\n",
       "      <th></th>\n",
       "      <th></th>\n",
       "      <th></th>\n",
       "    </tr>\n",
       "  </thead>\n",
       "  <tbody>\n",
       "    <tr>\n",
       "      <th>prefers_cb</th>\n",
       "      <td>56.876902</td>\n",
       "      <td>36.454640</td>\n",
       "      <td>42.056998</td>\n",
       "      <td>51.880931</td>\n",
       "      <td>66.697404</td>\n",
       "      <td>69.463966</td>\n",
       "    </tr>\n",
       "    <tr>\n",
       "      <th>prefers_lb</th>\n",
       "      <td>71.881579</td>\n",
       "      <td>45.725146</td>\n",
       "      <td>54.921053</td>\n",
       "      <td>64.621053</td>\n",
       "      <td>61.519737</td>\n",
       "      <td>67.496345</td>\n",
       "    </tr>\n",
       "    <tr>\n",
       "      <th>prefers_lwb</th>\n",
       "      <td>71.875000</td>\n",
       "      <td>43.375000</td>\n",
       "      <td>48.875000</td>\n",
       "      <td>62.800000</td>\n",
       "      <td>54.812500</td>\n",
       "      <td>61.312500</td>\n",
       "    </tr>\n",
       "    <tr>\n",
       "      <th>prefers_rb</th>\n",
       "      <td>73.429245</td>\n",
       "      <td>44.473270</td>\n",
       "      <td>52.301363</td>\n",
       "      <td>64.185535</td>\n",
       "      <td>61.482704</td>\n",
       "      <td>67.252358</td>\n",
       "    </tr>\n",
       "    <tr>\n",
       "      <th>prefers_rwb</th>\n",
       "      <td>75.500000</td>\n",
       "      <td>51.000000</td>\n",
       "      <td>51.666667</td>\n",
       "      <td>65.000000</td>\n",
       "      <td>51.000000</td>\n",
       "      <td>64.250000</td>\n",
       "    </tr>\n",
       "  </tbody>\n",
       "</table>\n",
       "</div>"
      ],
      "text/plain": [
       "                    pace   shooting    passing   dribling  defending  \\\n",
       "preferred_pos                                                          \n",
       "prefers_cb     56.876902  36.454640  42.056998  51.880931  66.697404   \n",
       "prefers_lb     71.881579  45.725146  54.921053  64.621053  61.519737   \n",
       "prefers_lwb    71.875000  43.375000  48.875000  62.800000  54.812500   \n",
       "prefers_rb     73.429245  44.473270  52.301363  64.185535  61.482704   \n",
       "prefers_rwb    75.500000  51.000000  51.666667  65.000000  51.000000   \n",
       "\n",
       "                physical  \n",
       "preferred_pos             \n",
       "prefers_cb     69.463966  \n",
       "prefers_lb     67.496345  \n",
       "prefers_lwb    61.312500  \n",
       "prefers_rb     67.252358  \n",
       "prefers_rwb    64.250000  "
      ]
     },
     "execution_count": 18,
     "metadata": {},
     "output_type": "execute_result"
    }
   ],
   "source": [
    "df_z.groupby('preferred_pos').mean()"
   ]
  },
  {
   "cell_type": "code",
   "execution_count": 19,
   "metadata": {
    "scrolled": true
   },
   "outputs": [
    {
     "data": {
      "text/plain": [
       "preferred_pos  preferred_foot\n",
       "prefers_cb     Left              206\n",
       "               Right             911\n",
       "prefers_lb     Left              324\n",
       "               Right              18\n",
       "prefers_lwb    Left                3\n",
       "               Right               1\n",
       "prefers_rb     Left                3\n",
       "               Right             315\n",
       "prefers_rwb    Right               2\n",
       "dtype: int64"
      ]
     },
     "execution_count": 19,
     "metadata": {},
     "output_type": "execute_result"
    }
   ],
   "source": [
    "df_z.groupby(['preferred_pos','preferred_foot']).size()"
   ]
  },
  {
   "cell_type": "markdown",
   "metadata": {},
   "source": [
    "Sem consultar o que cada posição significa, podemos inferir algumas informações:\n",
    "\n",
    "- cb são nossos xerifões. O Lúcio cai bem nessa definição :D. São lentos, chute e passe ruins (drible nem se fala) mas são os melhores para defender possuindo também a maior média física.\n",
    "- lb/rb são em geral mais habilidosos. Além de terem bom passe, também defendem bem.\n",
    "- lwb/rwb diferenciam-se pois não são tão bons em marcar e possuem porte físico menor. Chuto que são laterais ofensivos.\n",
    "\n",
    "Vamos googlear e ver se é [isso mesmo](http://fifafootballvideogames.wikia.com/wiki/Soccer_positions):\n",
    "\n",
    "> - Centre-backs are often tall, strong and have a good jumping, heading and tackling ability.\n",
    "> - The Right Back and The Left Back are the side defenders, not like the wingbacks. They are the second common defender (first being Centre-Backs).\n",
    "> - The Wingbacks are defenders with heavier emphasis on attack.\n",
    "\n",
    "Muito bom! É isso aí!\n"
   ]
  },
  {
   "cell_type": "code",
   "execution_count": 20,
   "metadata": {},
   "outputs": [
    {
     "data": {
      "text/plain": [
       "Right    0.791882\n",
       "Left     0.208118\n",
       "Name: preferred_foot, dtype: float64"
      ]
     },
     "execution_count": 20,
     "metadata": {},
     "output_type": "execute_result"
    }
   ],
   "source": [
    "df.preferred_foot.value_counts(normalize=True)"
   ]
  },
  {
   "cell_type": "markdown",
   "metadata": {},
   "source": [
    "Já ia me esquecendo, pés predominantes! De certa forma existem mais destros do que canhotos no csv de treinamento: 80% são destros. Olhando para cada posição vemos um padrão: *1) quem joga na esquerda, é canhoto e vice-versa e 2) quem joga no meio geralmente é destro*. \n",
    "\n",
    "Como esse padrão é bem forte, podemos usá-lo em nosso modelo. Faremos essa verificação nas outras posições também. "
   ]
  },
  {
   "cell_type": "markdown",
   "metadata": {},
   "source": [
    "## 4.2) Invetigando meio-campistas"
   ]
  },
  {
   "cell_type": "code",
   "execution_count": 21,
   "metadata": {},
   "outputs": [
    {
     "data": {
      "text/html": [
       "<div>\n",
       "<style scoped>\n",
       "    .dataframe tbody tr th:only-of-type {\n",
       "        vertical-align: middle;\n",
       "    }\n",
       "\n",
       "    .dataframe tbody tr th {\n",
       "        vertical-align: top;\n",
       "    }\n",
       "\n",
       "    .dataframe thead th {\n",
       "        text-align: right;\n",
       "    }\n",
       "</style>\n",
       "<table border=\"1\" class=\"dataframe\">\n",
       "  <thead>\n",
       "    <tr style=\"text-align: right;\">\n",
       "      <th></th>\n",
       "      <th>pace</th>\n",
       "      <th>shooting</th>\n",
       "      <th>passing</th>\n",
       "      <th>dribling</th>\n",
       "      <th>defending</th>\n",
       "      <th>physical</th>\n",
       "      <th>preferred_foot</th>\n",
       "      <th>preferred_pos</th>\n",
       "    </tr>\n",
       "  </thead>\n",
       "  <tbody>\n",
       "    <tr>\n",
       "      <th>1</th>\n",
       "      <td>67.0</td>\n",
       "      <td>48.5</td>\n",
       "      <td>57.833333</td>\n",
       "      <td>69.6</td>\n",
       "      <td>53.25</td>\n",
       "      <td>63.5</td>\n",
       "      <td>Right</td>\n",
       "      <td>prefers_cm</td>\n",
       "    </tr>\n",
       "    <tr>\n",
       "      <th>15</th>\n",
       "      <td>55.5</td>\n",
       "      <td>55.5</td>\n",
       "      <td>55.666667</td>\n",
       "      <td>57.6</td>\n",
       "      <td>68.50</td>\n",
       "      <td>71.0</td>\n",
       "      <td>Right</td>\n",
       "      <td>prefers_cdm</td>\n",
       "    </tr>\n",
       "  </tbody>\n",
       "</table>\n",
       "</div>"
      ],
      "text/plain": [
       "    pace  shooting    passing  dribling  defending  physical preferred_foot  \\\n",
       "1   67.0      48.5  57.833333      69.6      53.25      63.5          Right   \n",
       "15  55.5      55.5  55.666667      57.6      68.50      71.0          Right   \n",
       "\n",
       "   preferred_pos  \n",
       "1     prefers_cm  \n",
       "15   prefers_cdm  "
      ]
     },
     "execution_count": 21,
     "metadata": {},
     "output_type": "execute_result"
    }
   ],
   "source": [
    "mf_m = df[df.pst == 'mf'][['pace','shooting','passing','dribling','defending','physical', 'preferred_foot','preferred_pos']]\n",
    "mf_m.head(2)"
   ]
  },
  {
   "cell_type": "code",
   "execution_count": 22,
   "metadata": {},
   "outputs": [
    {
     "data": {
      "text/html": [
       "<div>\n",
       "<style scoped>\n",
       "    .dataframe tbody tr th:only-of-type {\n",
       "        vertical-align: middle;\n",
       "    }\n",
       "\n",
       "    .dataframe tbody tr th {\n",
       "        vertical-align: top;\n",
       "    }\n",
       "\n",
       "    .dataframe thead th {\n",
       "        text-align: right;\n",
       "    }\n",
       "</style>\n",
       "<table border=\"1\" class=\"dataframe\">\n",
       "  <thead>\n",
       "    <tr style=\"text-align: right;\">\n",
       "      <th></th>\n",
       "      <th>pace</th>\n",
       "      <th>shooting</th>\n",
       "      <th>passing</th>\n",
       "      <th>dribling</th>\n",
       "      <th>defending</th>\n",
       "      <th>physical</th>\n",
       "    </tr>\n",
       "    <tr>\n",
       "      <th>preferred_pos</th>\n",
       "      <th></th>\n",
       "      <th></th>\n",
       "      <th></th>\n",
       "      <th></th>\n",
       "      <th></th>\n",
       "      <th></th>\n",
       "    </tr>\n",
       "  </thead>\n",
       "  <tbody>\n",
       "    <tr>\n",
       "      <th>prefers_cam</th>\n",
       "      <td>67.652866</td>\n",
       "      <td>55.367304</td>\n",
       "      <td>59.674098</td>\n",
       "      <td>66.467516</td>\n",
       "      <td>39.503185</td>\n",
       "      <td>54.363057</td>\n",
       "    </tr>\n",
       "    <tr>\n",
       "      <th>prefers_cdm</th>\n",
       "      <td>61.795775</td>\n",
       "      <td>48.928795</td>\n",
       "      <td>54.958529</td>\n",
       "      <td>62.370892</td>\n",
       "      <td>61.545775</td>\n",
       "      <td>67.941315</td>\n",
       "    </tr>\n",
       "    <tr>\n",
       "      <th>prefers_cm</th>\n",
       "      <td>64.775126</td>\n",
       "      <td>51.399079</td>\n",
       "      <td>56.922111</td>\n",
       "      <td>63.514070</td>\n",
       "      <td>51.138819</td>\n",
       "      <td>61.404523</td>\n",
       "    </tr>\n",
       "    <tr>\n",
       "      <th>prefers_lm</th>\n",
       "      <td>75.838710</td>\n",
       "      <td>55.606183</td>\n",
       "      <td>56.594086</td>\n",
       "      <td>67.070968</td>\n",
       "      <td>36.243952</td>\n",
       "      <td>55.939516</td>\n",
       "    </tr>\n",
       "    <tr>\n",
       "      <th>prefers_rm</th>\n",
       "      <td>75.186709</td>\n",
       "      <td>55.610759</td>\n",
       "      <td>56.446203</td>\n",
       "      <td>66.650633</td>\n",
       "      <td>37.420886</td>\n",
       "      <td>56.767405</td>\n",
       "    </tr>\n",
       "  </tbody>\n",
       "</table>\n",
       "</div>"
      ],
      "text/plain": [
       "                    pace   shooting    passing   dribling  defending  \\\n",
       "preferred_pos                                                          \n",
       "prefers_cam    67.652866  55.367304  59.674098  66.467516  39.503185   \n",
       "prefers_cdm    61.795775  48.928795  54.958529  62.370892  61.545775   \n",
       "prefers_cm     64.775126  51.399079  56.922111  63.514070  51.138819   \n",
       "prefers_lm     75.838710  55.606183  56.594086  67.070968  36.243952   \n",
       "prefers_rm     75.186709  55.610759  56.446203  66.650633  37.420886   \n",
       "\n",
       "                physical  \n",
       "preferred_pos             \n",
       "prefers_cam    54.363057  \n",
       "prefers_cdm    67.941315  \n",
       "prefers_cm     61.404523  \n",
       "prefers_lm     55.939516  \n",
       "prefers_rm     56.767405  "
      ]
     },
     "execution_count": 22,
     "metadata": {},
     "output_type": "execute_result"
    }
   ],
   "source": [
    "mf_m.groupby('preferred_pos').mean()"
   ]
  },
  {
   "cell_type": "markdown",
   "metadata": {},
   "source": [
    "Em um primeiro momento, os padrões não pareceram estar tão visíveis. Tive que recorrer à pesquisa antes de inferir qualquer coisa:\n",
    "\n",
    "> - Central midfielders play several roles on the field of play, depending on their particular strengths and the tactics of the team.\n",
    "> - The Left and Right Midfielders (or The side midfielder) is a midfielder who is stationed in a wide position effectively hugging the touchline.\n",
    "> - An Attacking midfielder is a central midfielder who is stationed in an advanced midfield position, usually behind the strikers.\n",
    "> - A Defensive midfielder is a central midfielder who is stationed in front of the defenders to provide a more secure defence, thus \"holding back\" the freedom of the opponents to attack.\n",
    "\n",
    "A evolução do futebol tanto real quanto virtual é algo muito interessante. Agora existem posições bem definidas para os volantes que saem jogando e os que ficam mais na marcação. Todos eram meio campistas centrais antigamente. Ponto para a evolução!\n",
    "\n",
    "- cm: meio campistas centrais. Muito regulares. Atacam mais do que defendem.\n",
    "- lm/rm: possuem bom preparo físico. Ficam mais abertos nas laterais do campo. Não marcam NADA!\n",
    "- cam: ataque consistente com bom passe (garçom dos atacantes) e marca pouco. Já esperado pelo seu papel no campo.\n",
    "- cdm: um exemplo bom aqui seria o nosso Casemito. A ênfase está na defesa e no porte físico e como era de se esperar, chute bem fraco."
   ]
  },
  {
   "cell_type": "code",
   "execution_count": 23,
   "metadata": {},
   "outputs": [
    {
     "data": {
      "text/plain": [
       "preferred_pos  preferred_foot\n",
       "prefers_cam    Left               33\n",
       "               Right             124\n",
       "prefers_cdm    Left               24\n",
       "               Right             189\n",
       "prefers_cm     Left               56\n",
       "               Right             342\n",
       "prefers_lm     Left               68\n",
       "               Right              56\n",
       "prefers_rm     Left               25\n",
       "               Right             133\n",
       "dtype: int64"
      ]
     },
     "execution_count": 23,
     "metadata": {},
     "output_type": "execute_result"
    }
   ],
   "source": [
    "mf_m.groupby(['preferred_pos','preferred_foot']).size()"
   ]
  },
  {
   "cell_type": "markdown",
   "metadata": {},
   "source": [
    "O destaque aqui são os meia-esquerdas. A proporção de destros e canhotos está bem próxima, isso talvez seja explicável pelo mesmo fato do [Robben jogar na direita e ser canhoto](https://www.youtube.com/watch?v=T98BWzUlkY4): cortar para dentro e bater pro gol.\n",
    "\n",
    "\n",
    "Como existem mais destros em geral, então, é esperado que a proporção fique parecida."
   ]
  },
  {
   "cell_type": "markdown",
   "metadata": {},
   "source": [
    "## 4.3) Investigando os atacantes"
   ]
  },
  {
   "cell_type": "code",
   "execution_count": 24,
   "metadata": {},
   "outputs": [
    {
     "data": {
      "text/html": [
       "<div>\n",
       "<style scoped>\n",
       "    .dataframe tbody tr th:only-of-type {\n",
       "        vertical-align: middle;\n",
       "    }\n",
       "\n",
       "    .dataframe tbody tr th {\n",
       "        vertical-align: top;\n",
       "    }\n",
       "\n",
       "    .dataframe thead th {\n",
       "        text-align: right;\n",
       "    }\n",
       "</style>\n",
       "<table border=\"1\" class=\"dataframe\">\n",
       "  <thead>\n",
       "    <tr style=\"text-align: right;\">\n",
       "      <th></th>\n",
       "      <th>pace</th>\n",
       "      <th>shooting</th>\n",
       "      <th>passing</th>\n",
       "      <th>dribling</th>\n",
       "      <th>defending</th>\n",
       "      <th>physical</th>\n",
       "      <th>preferred_foot</th>\n",
       "      <th>preferred_pos</th>\n",
       "    </tr>\n",
       "  </thead>\n",
       "  <tbody>\n",
       "    <tr>\n",
       "      <th>3</th>\n",
       "      <td>69.5</td>\n",
       "      <td>69.000000</td>\n",
       "      <td>46.5</td>\n",
       "      <td>57.6</td>\n",
       "      <td>35.75</td>\n",
       "      <td>63.5</td>\n",
       "      <td>Left</td>\n",
       "      <td>prefers_st</td>\n",
       "    </tr>\n",
       "    <tr>\n",
       "      <th>5</th>\n",
       "      <td>72.5</td>\n",
       "      <td>67.833333</td>\n",
       "      <td>43.0</td>\n",
       "      <td>67.2</td>\n",
       "      <td>29.50</td>\n",
       "      <td>64.0</td>\n",
       "      <td>Right</td>\n",
       "      <td>prefers_st</td>\n",
       "    </tr>\n",
       "  </tbody>\n",
       "</table>\n",
       "</div>"
      ],
      "text/plain": [
       "   pace   shooting  passing  dribling  defending  physical preferred_foot  \\\n",
       "3  69.5  69.000000     46.5      57.6      35.75      63.5           Left   \n",
       "5  72.5  67.833333     43.0      67.2      29.50      64.0          Right   \n",
       "\n",
       "  preferred_pos  \n",
       "3    prefers_st  \n",
       "5    prefers_st  "
      ]
     },
     "execution_count": 24,
     "metadata": {},
     "output_type": "execute_result"
    }
   ],
   "source": [
    "fw_f = df[df.pst == 'fw'][['pace','shooting','passing','dribling','defending','physical', 'preferred_foot','preferred_pos']]\n",
    "fw_f.head(2)"
   ]
  },
  {
   "cell_type": "code",
   "execution_count": 25,
   "metadata": {},
   "outputs": [
    {
     "data": {
      "text/html": [
       "<div>\n",
       "<style scoped>\n",
       "    .dataframe tbody tr th:only-of-type {\n",
       "        vertical-align: middle;\n",
       "    }\n",
       "\n",
       "    .dataframe tbody tr th {\n",
       "        vertical-align: top;\n",
       "    }\n",
       "\n",
       "    .dataframe thead th {\n",
       "        text-align: right;\n",
       "    }\n",
       "</style>\n",
       "<table border=\"1\" class=\"dataframe\">\n",
       "  <thead>\n",
       "    <tr style=\"text-align: right;\">\n",
       "      <th></th>\n",
       "      <th>pace</th>\n",
       "      <th>shooting</th>\n",
       "      <th>passing</th>\n",
       "      <th>dribling</th>\n",
       "      <th>defending</th>\n",
       "      <th>physical</th>\n",
       "    </tr>\n",
       "    <tr>\n",
       "      <th>preferred_pos</th>\n",
       "      <th></th>\n",
       "      <th></th>\n",
       "      <th></th>\n",
       "      <th></th>\n",
       "      <th></th>\n",
       "      <th></th>\n",
       "    </tr>\n",
       "  </thead>\n",
       "  <tbody>\n",
       "    <tr>\n",
       "      <th>prefers_cf</th>\n",
       "      <td>69.916667</td>\n",
       "      <td>56.333333</td>\n",
       "      <td>47.263889</td>\n",
       "      <td>64.116667</td>\n",
       "      <td>25.875000</td>\n",
       "      <td>51.166667</td>\n",
       "    </tr>\n",
       "    <tr>\n",
       "      <th>prefers_lw</th>\n",
       "      <td>76.243243</td>\n",
       "      <td>58.427928</td>\n",
       "      <td>55.337838</td>\n",
       "      <td>68.027027</td>\n",
       "      <td>31.560811</td>\n",
       "      <td>52.398649</td>\n",
       "    </tr>\n",
       "    <tr>\n",
       "      <th>prefers_rw</th>\n",
       "      <td>73.575472</td>\n",
       "      <td>59.537736</td>\n",
       "      <td>55.150943</td>\n",
       "      <td>66.056604</td>\n",
       "      <td>32.367925</td>\n",
       "      <td>52.646226</td>\n",
       "    </tr>\n",
       "    <tr>\n",
       "      <th>prefers_st</th>\n",
       "      <td>67.676534</td>\n",
       "      <td>62.978830</td>\n",
       "      <td>48.136168</td>\n",
       "      <td>62.537137</td>\n",
       "      <td>34.129440</td>\n",
       "      <td>63.923843</td>\n",
       "    </tr>\n",
       "  </tbody>\n",
       "</table>\n",
       "</div>"
      ],
      "text/plain": [
       "                    pace   shooting    passing   dribling  defending  \\\n",
       "preferred_pos                                                          \n",
       "prefers_cf     69.916667  56.333333  47.263889  64.116667  25.875000   \n",
       "prefers_lw     76.243243  58.427928  55.337838  68.027027  31.560811   \n",
       "prefers_rw     73.575472  59.537736  55.150943  66.056604  32.367925   \n",
       "prefers_st     67.676534  62.978830  48.136168  62.537137  34.129440   \n",
       "\n",
       "                physical  \n",
       "preferred_pos             \n",
       "prefers_cf     51.166667  \n",
       "prefers_lw     52.398649  \n",
       "prefers_rw     52.646226  \n",
       "prefers_st     63.923843  "
      ]
     },
     "execution_count": 25,
     "metadata": {},
     "output_type": "execute_result"
    }
   ],
   "source": [
    "fw_f.groupby('preferred_pos').mean()"
   ]
  },
  {
   "cell_type": "markdown",
   "metadata": {},
   "source": [
    "Roberto Carlos foi um dos maiores goleadores que os video games já viram. TODOS já apelaram com ele!\n",
    "\n",
    "<img src=\"http://pbs.twimg.com/media/CX1EgqgWcAAx1YO.jpg\" alt=\"drawing\" width=\"350px\" align='left'/>\n",
    "<br clear=\"all\" />\n",
    "\n",
    "\n",
    "- st são os goleadores, simples assim. Em geral não são rápidos, mas quando a bola cai no pé são decisivos. Possuem porte físico avantajado.\n",
    "- cf são os segundos atacantes. Possuem maior mobilidade e são mais habilidosos. Existem as variações para lado direito e esquerdo dessa posição também.\n",
    "- lw/rw enquadram-se como alas. Esses jogadores incomodam muito a defesa adversária jogando na extremidade dos lados do campo. Possuem muito bom condicionamento físico e são muito habilidosos.\n",
    "\n"
   ]
  },
  {
   "cell_type": "code",
   "execution_count": 26,
   "metadata": {},
   "outputs": [
    {
     "data": {
      "text/plain": [
       "preferred_pos  preferred_foot\n",
       "prefers_cf     Left                4\n",
       "               Right               8\n",
       "prefers_lw     Left               12\n",
       "               Right              25\n",
       "prefers_rw     Left               21\n",
       "               Right              32\n",
       "prefers_st     Left              124\n",
       "               Right             805\n",
       "dtype: int64"
      ]
     },
     "execution_count": 26,
     "metadata": {},
     "output_type": "execute_result"
    }
   ],
   "source": [
    "fw_f.groupby(['preferred_pos','preferred_foot']).size()"
   ]
  },
  {
   "cell_type": "markdown",
   "metadata": {},
   "source": [
    "Da mesma forma que acontece com meias que jogam abertos no campo, aqui também há a ocorrência de destros e canhotos em lados opostos do campo."
   ]
  },
  {
   "cell_type": "markdown",
   "metadata": {},
   "source": [
    "## 5) Como ficaria a predição usando a feature de pé predominante?"
   ]
  },
  {
   "cell_type": "code",
   "execution_count": 27,
   "metadata": {},
   "outputs": [],
   "source": [
    "dft = df[['pst', 'pace','shooting','passing','dribling','defending','physical', 'preferred_foot','preferred_pos']]"
   ]
  },
  {
   "cell_type": "code",
   "execution_count": 28,
   "metadata": {},
   "outputs": [
    {
     "name": "stdout",
     "output_type": "stream",
     "text": [
      "   pace   shooting  passing  dribling  defending  physical preferred_foot\n",
      "4  33.0  32.166667     45.0      36.6       71.0      68.5          Right\n",
      "-----------------------\n",
      "4    prefers_cb\n",
      "Name: preferred_pos, dtype: object\n"
     ]
    }
   ],
   "source": [
    "print(dft[dft.pst == 'df'].iloc[:,1:-1].head(1))\n",
    "print('-----------------------')\n",
    "print(dft[dft.pst == 'df'].preferred_pos.head(1))"
   ]
  },
  {
   "cell_type": "markdown",
   "metadata": {},
   "source": [
    "## 5.1) Zagueiros"
   ]
  },
  {
   "cell_type": "code",
   "execution_count": 29,
   "metadata": {},
   "outputs": [
    {
     "name": "stdout",
     "output_type": "stream",
     "text": [
      "Accuracy standard: 0.9260089686098655\n",
      "\n",
      "             y test  Pred. Orig.\n",
      "prefers_cb    263.0        266.0\n",
      "prefers_lb     96.0         91.0\n",
      "prefers_rb     86.0         89.0\n",
      "prefers_rwb     1.0          NaN\n"
     ]
    }
   ],
   "source": [
    "X = dft[dft.pst == 'df'].iloc[:,1:-1] # 1) filtrando df 2) tirando pst e preferred_pos\n",
    "y = dft[dft.pst == 'df'].preferred_pos\n",
    "\n",
    "result = svc_model(X, y)"
   ]
  },
  {
   "cell_type": "markdown",
   "metadata": {},
   "source": [
    "## 5.2) Meias"
   ]
  },
  {
   "cell_type": "code",
   "execution_count": 30,
   "metadata": {},
   "outputs": [
    {
     "name": "stdout",
     "output_type": "stream",
     "text": [
      "Accuracy standard: 0.6463878326996197\n",
      "\n",
      "             y test  Pred. Orig.\n",
      "prefers_cam      44           29\n",
      "prefers_cdm      52           50\n",
      "prefers_cm      102          129\n",
      "prefers_lm       30           21\n",
      "prefers_rm       35           34\n"
     ]
    }
   ],
   "source": [
    "X = dft[dft.pst == 'mf'].iloc[:,1:-1] # 1) filtrando df 2) tirando pst e preferred_pos\n",
    "y = dft[dft.pst == 'mf'].preferred_pos\n",
    "\n",
    "result = svc_model(X, y)"
   ]
  },
  {
   "cell_type": "markdown",
   "metadata": {},
   "source": [
    "O modelo não conseguiu prever com exatidão cm e cdm. Os erros nessas 2 posições foram bem acima das outras."
   ]
  },
  {
   "cell_type": "markdown",
   "metadata": {},
   "source": [
    "## 5.3) Atacantes"
   ]
  },
  {
   "cell_type": "code",
   "execution_count": 31,
   "metadata": {},
   "outputs": [
    {
     "name": "stdout",
     "output_type": "stream",
     "text": [
      "Accuracy standard: 0.9147286821705426\n",
      "\n",
      "            y test  Pred. Orig.\n",
      "prefers_cf     4.0          NaN\n",
      "prefers_lw     7.0          6.0\n",
      "prefers_rw    15.0          7.0\n",
      "prefers_st   232.0        245.0\n"
     ]
    }
   ],
   "source": [
    "X = dft[dft.pst == 'fw'].iloc[:,1:-1] # 1) filtrando df 2) tirando pst e preferred_pos\n",
    "y = dft[dft.pst == 'fw'].preferred_pos\n",
    "\n",
    "result = svc_model(X, y)"
   ]
  },
  {
   "cell_type": "markdown",
   "metadata": {},
   "source": [
    "# 6) Prevendo as posições com features de média e ISSP98 juntas:\n",
    "\n",
    "Os resultados foram muito bons com as features das médias e do ISSP98 separadamente. Mas será que se eu colocar essas features juntas, o modelo conseguirá prever corretamente? Ainda tem a baixa accuracy dos meias. Let´s try!"
   ]
  },
  {
   "cell_type": "code",
   "execution_count": 32,
   "metadata": {},
   "outputs": [
    {
     "name": "stdout",
     "output_type": "stream",
     "text": [
      "  pst  pace  shooting  passing  dribling  defending  physical preferred_foot\n",
      "0  gk  34.5      11.0     14.5      31.6      10.75      43.0          Right\n",
      "-----------------------\n",
      "0    prefers_gk\n",
      "Name: preferred_pos, dtype: object\n"
     ]
    }
   ],
   "source": [
    "dft = df[['pst', 'pace','shooting','passing','dribling','defending','physical', 'preferred_foot','preferred_pos']]\n",
    "X = dft.iloc[:,:-1]\n",
    "y = dft.preferred_pos\n",
    "\n",
    "print(X.head(1))\n",
    "print('-----------------------')\n",
    "print(y.head(1))"
   ]
  },
  {
   "cell_type": "code",
   "execution_count": 33,
   "metadata": {},
   "outputs": [
    {
     "name": "stdout",
     "output_type": "stream",
     "text": [
      "Accuracy standard: 0.8674948240165632\n",
      "\n",
      "             y test  Pred. Orig.\n",
      "prefers_cam    38.0         48.0\n",
      "prefers_cb    330.0        322.0\n",
      "prefers_cdm    63.0         62.0\n",
      "prefers_cf      3.0          NaN\n",
      "prefers_cm    134.0        156.0\n",
      "prefers_gk    295.0        295.0\n",
      "prefers_lb     93.0         95.0\n",
      "prefers_lm     32.0         33.0\n",
      "prefers_lw     10.0          NaN\n",
      "prefers_rb     83.0         89.0\n",
      "prefers_rm     68.0         36.0\n",
      "prefers_rw     21.0          6.0\n",
      "prefers_st    279.0        307.0\n"
     ]
    }
   ],
   "source": [
    "result = svc_model(X, y, split=0.3)"
   ]
  },
  {
   "cell_type": "markdown",
   "metadata": {},
   "source": [
    "O accuraccy do nosso modelo está com um nível bastante aceitável. Mas será que conseguimos melhorar se aplicarmos outro algoritmo?"
   ]
  },
  {
   "cell_type": "markdown",
   "metadata": {},
   "source": [
    "## 7) Comparando com o algoritmo Random Forest\n",
    "\n",
    "O modelo ficou com uma accuracy boa com o SVC. Vamos compará-lo com o Random Forest e verificar se os resultados são compatíveis:"
   ]
  },
  {
   "cell_type": "code",
   "execution_count": 34,
   "metadata": {
    "scrolled": true
   },
   "outputs": [],
   "source": [
    "def rf_model(X, y, split=.25):\n",
    "    if 'preferred_foot' in X.columns:\n",
    "        X.preferred_foot = X.preferred_foot.str.replace('Right', '0').replace('Left', '1').astype('int64')\n",
    "    \n",
    "    if 'pst' in X.columns:\n",
    "        X.pst = X.pst.str.replace('gk', '0').replace('df', '1').replace('mf', '2').replace('fw', '3').astype('int64')\n",
    "    \n",
    "    X_train, X_test, y_train, y_test = train_test_split(X, y, test_size=split, random_state=1891)\n",
    "    \n",
    "    clf = RandomForestClassifier()\n",
    "    clf.fit(X_train, y_train)\n",
    "    result = clf.predict(X_test)\n",
    "    \n",
    "    dfr = pd.DataFrame([pd.Series(result).value_counts(), y_test.value_counts()]).T\n",
    "    dfr.columns = ['pred', 'real']\n",
    "    \n",
    "    print('Accuracy score: {0}\\n'.format(accuracy_score(y_test, result, normalize=True)))\n",
    "    print(dfr)\n",
    "    \n",
    "    return clf, X_train, X_test, y_train, y_test\n"
   ]
  },
  {
   "cell_type": "markdown",
   "metadata": {},
   "source": [
    "## 7.1.1) Modelo que usa pé predominante mas não usa posições do ISSP98:"
   ]
  },
  {
   "cell_type": "code",
   "execution_count": 35,
   "metadata": {},
   "outputs": [],
   "source": [
    "X = df[['pace','shooting','passing','dribling','defending','physical','preferred_foot', 'pst', 'preferred_pos']].iloc[:,:-2]\n",
    "y = df[['pace','shooting','passing','dribling','defending','physical','preferred_foot', 'pst', 'preferred_pos']].iloc[:,-1]\n"
   ]
  },
  {
   "cell_type": "code",
   "execution_count": 36,
   "metadata": {},
   "outputs": [
    {
     "name": "stdout",
     "output_type": "stream",
     "text": [
      "Accuracy score: 0.8053830227743272\n",
      "\n",
      "              pred   real\n",
      "prefers_cb   371.0  336.0\n",
      "prefers_gk   296.0  296.0\n",
      "prefers_st   289.0  272.0\n",
      "prefers_cm   120.0  131.0\n",
      "prefers_lb   108.0  106.0\n",
      "prefers_rb    93.0   89.0\n",
      "prefers_cdm   55.0   71.0\n",
      "prefers_cam   48.0   42.0\n",
      "prefers_rm    34.0   42.0\n",
      "prefers_lm    30.0   35.0\n",
      "prefers_lw     3.0    8.0\n",
      "prefers_rw     2.0   15.0\n",
      "prefers_cf     NaN    4.0\n",
      "prefers_lwb    NaN    1.0\n",
      "prefers_rwb    NaN    1.0\n"
     ]
    }
   ],
   "source": [
    "result = rf_model(X,y, split=0.3)"
   ]
  },
  {
   "cell_type": "markdown",
   "metadata": {},
   "source": [
    "## 7.1.2) Modelo que usa posições do ISSSP98 e pé predominante:"
   ]
  },
  {
   "cell_type": "code",
   "execution_count": 37,
   "metadata": {},
   "outputs": [],
   "source": [
    "X = df[['pace','shooting','passing','dribling','defending','physical','preferred_foot', 'pst', 'preferred_pos']].iloc[:,:-1]\n",
    "y = df[['pace','shooting','passing','dribling','defending','physical','preferred_foot', 'pst', 'preferred_pos']].iloc[:,-1]"
   ]
  },
  {
   "cell_type": "code",
   "execution_count": 38,
   "metadata": {},
   "outputs": [
    {
     "name": "stdout",
     "output_type": "stream",
     "text": [
      "Accuracy score: 0.8585231193926847\n",
      "\n",
      "              pred   real\n",
      "prefers_cb   346.0  336.0\n",
      "prefers_gk   296.0  296.0\n",
      "prefers_st   282.0  272.0\n",
      "prefers_cm   127.0  131.0\n",
      "prefers_lb    98.0  106.0\n",
      "prefers_rb    87.0   89.0\n",
      "prefers_cdm   81.0   71.0\n",
      "prefers_cam   56.0   42.0\n",
      "prefers_rm    35.0   42.0\n",
      "prefers_lm    23.0   35.0\n",
      "prefers_lw     9.0    8.0\n",
      "prefers_rw     8.0   15.0\n",
      "prefers_lwb    1.0    1.0\n",
      "prefers_cf     NaN    4.0\n",
      "prefers_rwb    NaN    1.0\n"
     ]
    }
   ],
   "source": [
    "result2 = rf_model(X, y, split=0.3)"
   ]
  },
  {
   "cell_type": "markdown",
   "metadata": {},
   "source": [
    "Da mesma forma que aconteceu com o SVC, com o Random Forest a feature do ISSP98 melhorou bastante o modelo. Tanto SVC quanto o Random Forest pareceram ter desempenho semelhante. Dessa forma, vamos ficar com o SVC para predição e usar o Random Forest como comparação apenas."
   ]
  },
  {
   "cell_type": "markdown",
   "metadata": {},
   "source": [
    "## 7.2) Tentando encontrar melhores parâmetros\n",
    "\n",
    "Escolhendo melhor os parâmetros para usar com SVC:"
   ]
  },
  {
   "cell_type": "code",
   "execution_count": 39,
   "metadata": {},
   "outputs": [
    {
     "data": {
      "text/plain": [
       "GridSearchCV(cv=None, error_score='raise',\n",
       "       estimator=SVC(C=1.0, cache_size=200, class_weight=None, coef0=0.0,\n",
       "  decision_function_shape='ovr', degree=3, gamma='auto', kernel='rbf',\n",
       "  max_iter=-1, probability=False, random_state=5891, shrinking=True,\n",
       "  tol=0.001, verbose=False),\n",
       "       fit_params=None, iid=True, n_jobs=-1,\n",
       "       param_grid={'kernel': ('linear', 'rbf'), 'C': [1, 10, 100]},\n",
       "       pre_dispatch='2*n_jobs', refit=True, return_train_score='warn',\n",
       "       scoring=None, verbose=0)"
      ]
     },
     "execution_count": 39,
     "metadata": {},
     "output_type": "execute_result"
    }
   ],
   "source": [
    "parameters = {'kernel':('linear', 'rbf'),\n",
    "              'C':[1, 10, 100]\n",
    "             }\n",
    "\n",
    "clf = GridSearchCV(estimator=SVC(random_state=5891), param_grid=parameters, n_jobs=-1)\n",
    "clf.fit(result2[1],result2[3])"
   ]
  },
  {
   "cell_type": "code",
   "execution_count": 40,
   "metadata": {},
   "outputs": [
    {
     "name": "stdout",
     "output_type": "stream",
     "text": [
      "SVC(C=1, cache_size=200, class_weight=None, coef0=0.0,\n",
      "  decision_function_shape='ovr', degree=3, gamma='auto', kernel='linear',\n",
      "  max_iter=-1, probability=False, random_state=5891, shrinking=True,\n",
      "  tol=0.001, verbose=False)\n",
      "\n",
      "\n",
      "0.8656804733727811\n"
     ]
    }
   ],
   "source": [
    "print(clf.best_estimator_)\n",
    "print('\\n')\n",
    "print(clf.best_score_)"
   ]
  },
  {
   "cell_type": "markdown",
   "metadata": {},
   "source": [
    "Agora podemos alterar os hyperparametros com ```Kernel=linear``` e ```C=1```."
   ]
  },
  {
   "cell_type": "markdown",
   "metadata": {},
   "source": [
    "## 8) Modelo final"
   ]
  },
  {
   "cell_type": "code",
   "execution_count": 41,
   "metadata": {},
   "outputs": [
    {
     "name": "stdout",
     "output_type": "stream",
     "text": [
      "Accuracy standard: 0.8667218543046358\n",
      "\n",
      "             y test  Pred. Orig.\n",
      "prefers_cam    28.0         43.0\n",
      "prefers_cb    285.0        266.0\n",
      "prefers_cdm    53.0         61.0\n",
      "prefers_cf      2.0          NaN\n",
      "prefers_cm    118.0        123.0\n",
      "prefers_gk    254.0        254.0\n",
      "prefers_lb     67.0         74.0\n",
      "prefers_lm     28.0         26.0\n",
      "prefers_lw      7.0          4.0\n",
      "prefers_rb     66.0         78.0\n",
      "prefers_rm     58.0         32.0\n",
      "prefers_rw     19.0         14.0\n",
      "prefers_st    223.0        233.0\n"
     ]
    }
   ],
   "source": [
    "X = df[['pace','shooting','passing','dribling','defending','physical','preferred_foot', 'pst', 'preferred_pos']].iloc[:,:-1]\n",
    "y = df[['pace','shooting','passing','dribling','defending','physical','preferred_foot', 'pst', 'preferred_pos']].iloc[:,-1]\n",
    "\n",
    "result = svc_model(X, y, default_kernel='linear', default_C=1)"
   ]
  },
  {
   "cell_type": "markdown",
   "metadata": {},
   "source": [
    "## 8.1) Confusion matrix"
   ]
  },
  {
   "cell_type": "code",
   "execution_count": 42,
   "metadata": {},
   "outputs": [
    {
     "data": {
      "text/plain": [
       "(array([ 0,  1,  2,  3,  4,  5,  6,  7,  8,  9, 10, 11, 12]),\n",
       " <a list of 13 Text xticklabel objects>)"
      ]
     },
     "execution_count": 42,
     "metadata": {},
     "output_type": "execute_result"
    },
    {
     "data": {
      "image/png": "[encoded data removed]",
      "text/plain": [
       "<Figure size 432x288 with 2 Axes>"
      ]
     },
     "metadata": {},
     "output_type": "display_data"
    }
   ],
   "source": [
    "skplt.metrics.plot_confusion_matrix(result[3], result[4], normalize=True)\n",
    "plt.xticks(rotation=90)"
   ]
  },
  {
   "cell_type": "markdown",
   "metadata": {},
   "source": [
    "Pela confusion matrix fica bem perceptível o ponto fraco do modelo. A única posição com accuracy boa no meio de campo, é o cdm. Comparado às outras subposições, cm também não foi tão mal. Se quiséssemos melhorar o modelo, um caminho a ser seguido certamente seria melhorar o modelo quanto às subposições dos meias.\n",
    "\n",
    "Outro destaque negativo é o cf. Entretanto, essa discrepância se dê mais em função do desbalanceamento do dataset do que outra coisa. Talvez se o dataset estivesse balanceado, essa posição poderia ser prevista melhor.\n",
    "\n",
    "Os lw foram classificados com a perna errada. O modelo aqui poderia ir melhor também se tivesse balanceamento dos dados.\n",
    "\n",
    "Não são apenas pontos negativos que marcam o modelo. Os goleiros tiveram 100% de acerto na previsão e de modo geral as posições ficaram bem rankeadas. Basta olhar a diagonal do gráfico. Quanto mais colorido, melhor."
   ]
  }
 ],
 "metadata": {
  "kernelspec": {
   "display_name": "Python 3",
   "language": "python",
   "name": "python3"
  },
  "language_info": {
   "codemirror_mode": {
    "name": "ipython",
    "version": 3
   },
   "file_extension": ".py",
   "mimetype": "text/x-python",
   "name": "python",
   "nbconvert_exporter": "python",
   "pygments_lexer": "ipython3",
   "version": "3.6.5"
  }
 },
 "nbformat": 4,
 "nbformat_minor": 2
}
